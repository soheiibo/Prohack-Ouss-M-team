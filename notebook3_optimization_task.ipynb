{
  "nbformat": 4,
  "nbformat_minor": 0,
  "metadata": {
    "colab": {
      "name": "OptimizationTask.ipynb",
      "provenance": [],
      "collapsed_sections": []
    },
    "kernelspec": {
      "name": "python3",
      "display_name": "Python 3"
    }
  },
  "cells": [
    {
      "cell_type": "markdown",
      "metadata": {
        "id": "GA_njuMtDoIa",
        "colab_type": "text"
      },
      "source": [
        "#Task02 : Opimization : "
      ]
    },
    {
      "cell_type": "code",
      "metadata": {
        "id": "27fcxho-Dvf7",
        "colab_type": "code",
        "colab": {}
      },
      "source": [
        "import pandas as pd\n",
        "import numpy as np\n",
        "import seaborn as sns"
      ],
      "execution_count": null,
      "outputs": []
    },
    {
      "cell_type": "code",
      "metadata": {
        "id": "QO8L9j2dF57b",
        "colab_type": "code",
        "colab": {}
      },
      "source": [
        "test=pd.read_csv('https://raw.githubusercontent.com/ousama-88/prohack_dataset_fIZoqt7/master/test.csv')"
      ],
      "execution_count": null,
      "outputs": []
    },
    {
      "cell_type": "code",
      "metadata": {
        "id": "5agndmazc_cq",
        "colab_type": "code",
        "colab": {}
      },
      "source": [
        "#y from notebook 2\n",
        "our_best_y = pd.read_csv('https://raw.githubusercontent.com/ousama-88/prohack_dataset_fIZoqt7/ousama-88-patch-1/yturkey1.csv')"
      ],
      "execution_count": null,
      "outputs": []
    },
    {
      "cell_type": "markdown",
      "metadata": {
        "id": "uqH-CWvYfBAb",
        "colab_type": "text"
      },
      "source": [
        "our solution for the optimization task was based on stable distribution of energy \n",
        "\n",
        "![Texte alternatif…](https://raw.githubusercontent.com/ousama-88/prohack_dataset_fIZoqt7/master/o.png)"
      ]
    },
    {
      "cell_type": "markdown",
      "metadata": {
        "id": "IC8eZ_aWdciM",
        "colab_type": "text"
      },
      "source": [
        "We counted and found out that exists 67 countries with 'existence expectancy index' < 0.7."
      ]
    },
    {
      "cell_type": "code",
      "metadata": {
        "id": "XPE3kJkwcT_M",
        "colab_type": "code",
        "colab": {
          "base_uri": "https://localhost:8080/",
          "height": 71
        },
        "outputId": "4ccd7689-f5cf-4068-aae9-bf2ea0260c62"
      },
      "source": [
        "test['y'] = our_best_y\n",
        "test['const'] = test['y'].apply(lambda x: ((3-np.log(x+0.01))**2)/1000)\n",
        "\n",
        "test=test.sort_values(by='existence expectancy index')\n",
        "test['smpl_opt_pred'] = 95 \n",
        "from scipy.optimize import minimize\n",
        "\n",
        "x0 = np.array(test['smpl_opt_pred'])\n",
        "consts = np.array(test['const'])\n",
        "\n",
        "def objective(x):\n",
        "    return -x.dot(consts)\n",
        "\n",
        "def constraint1(x):\n",
        "    return 49999.99-sum(x)\n",
        "\n",
        "def constraint2(x):\n",
        "    return sum(x[:67])-4999.99\n",
        "\n",
        "b = (0.0, 100.0)\n",
        "bnds = (b,)*890\n",
        "\n",
        "con1 = {'type': 'ineq', 'fun': constraint1}\n",
        "con2 = {'type': 'ineq', 'fun': constraint2}\n",
        "cons = ([con1,con2])\n",
        "solution = minimize(objective,x0,method='SLSQP',\n",
        "                    bounds=bnds,constraints=cons,\n",
        "                    options={'maxiter': 232.5, 'ftol': 1e-08, 'eps': 1e-05})\n",
        "x = solution.x\n",
        "print('res:',objective(x))\n",
        "print(list(x))"
      ],
      "execution_count": null,
      "outputs": [
        {
          "output_type": "stream",
          "text": [
            "res: -1863.9124240916806\n",
            "[100.0, 100.0, 100.0, 100.0, 100.0, 100.0, 100.0, 100.0, 100.0, 100.0, 100.0, 100.0, 100.0, 100.0, 100.0, 100.0, 100.0, 100.0, 100.0, 100.0, 100.0, 100.0, 100.0, 100.0, 100.0, 100.0, 100.0, 100.0, 100.0, 100.0, 100.0, 100.0, 100.0, 59.07882229654771, 100.0, 100.0, 100.0, 100.0, 100.0, 100.0, 100.0, 100.0, 100.0, 100.0, 70.82213556271307, 100.0, 100.0, 100.0, 100.0, 100.0, 100.0, 100.0, 100.0, 100.0, 100.0, 100.0, 100.0, 100.0, 100.0, 100.0, 100.0, 99.68193638735028, 100.0, 100.0, 100.0, 100.0, 100.0, 100.0, 91.6272938664564, 82.58011722836315, 74.642295072881, 100.0, 100.0, 100.0, 89.97832478798588, 80.69031860546548, 100.0, 96.49376807359758, 100.0, 100.0, 88.65730325093499, 77.70117013279791, 98.13739870996561, 100.0, 100.0, 100.0, 93.38309018352138, 100.0, 100.0, 84.61477397979424, 100.0, 100.0, 100.0, 100.0, 100.0, 100.0, 100.0, 100.0, 100.0, 100.0, 95.91002523956642, 100.0, 100.0, 98.64202438224369, 100.0, 94.9369664941253, 100.0, 100.0, 100.0, 100.0, 100.0, 100.0, 100.0, 99.9947514499069, 82.53924542954833, 100.0, 100.0, 56.81094092618801, 100.0, 100.0, 100.0, 88.74521599862558, 100.0, 100.0, 93.75918920929585, 100.0, 100.0, 100.0, 100.0, 100.0, 100.0, 77.29157540523725, 88.09941782001201, 100.0, 72.54870739891018, 100.0, 100.0, 86.16048095917999, 100.0, 100.0, 92.58630652923553, 100.0, 100.0, 100.0, 76.79818869175757, 93.82988283486303, 93.11340392357104, 100.0, 100.0, 100.0, 94.70477571872284, 5.297419058642719, 100.0, 100.0, 82.35210295330377, 100.0, 100.0, 100.0, 100.0, 68.63593314086529, 100.0, 42.258251201976535, 100.0, 100.0, 100.0, 98.12270630316753, 100.0, 100.0, 99.98701620349719, 100.0, 100.0, 75.33421955964035, 100.0, 100.0, 100.0, 100.0, 100.0, 78.53877657053718, 100.0, 100.0, 100.0, 100.0, 100.0, 72.17148745249214, 89.62000303946107, 100.0, 100.0, 100.0, 100.0, 66.1947759161844, 100.0, 100.0, 100.0, 76.11026066721756, 100.0, 100.0, 74.6404008354291, 100.0, 64.10872130573976, 0.0, 88.62161119662402, 100.0, 100.0, 100.0, 100.0, 100.0, 98.32181040597393, 57.447507430653864, 100.0, 100.0, 100.0, 91.78427779359627, 80.26289856795654, 100.0, 1.673653781561569, 0.0, 48.855384784852696, 100.0, 5.755508233072182, 62.12577142719848, 100.0, 100.0, 15.289707515112186, 96.2444526069312, 100.0, 100.0, 100.0, 79.34407408723811, 100.0, 100.0, 100.0, 100.0, 41.59750149903844, 100.0, 100.0, 100.0, 78.49253535351738, 100.0, 78.59118511064067, 100.0, 80.75310260106954, 100.0, 100.0, 6.335357982728088, 100.0, 100.0, 96.68900049191733, 100.0, 76.73901761544683, 0.0, 100.0, 100.0, 100.0, 100.0, 100.0, 93.64977183349606, 100.0, 87.62836667392949, 80.8313851516558, 100.0, 100.0, 49.0319728412068, 10.566847961240624, 74.43364786537717, 91.30717699699656, 31.374559383733462, 76.05127600826931, 100.0, 100.0, 100.0, 86.08132271785762, 100.0, 87.99891556672155, 35.97330528021741, 16.171909634702242, 100.0, 100.0, 65.67413264639418, 78.83395703942219, 100.0, 63.48597129607655, 100.0, 100.0, 100.0, 81.87945333026303, 0.0, 74.43167445143322, 12.56538699508086, 100.0, 100.0, 100.0, 70.4448164428202, 100.0, 100.0, 68.32519030023883, 100.0, 69.61072926062597, 100.0, 100.0, 86.7789614693262, 77.65241435673667, 86.06759017688331, 100.0, 100.0, 100.0, 83.84354544761986, 0.0, 85.19196338964848, 6.1502689013273715, 75.02869715312833, 19.697804203714302, 100.0, 100.0, 86.62977720744877, 100.0, 100.0, 100.0, 95.36306132165376, 38.6160483691716, 0.0, 65.11964155449576, 0.0, 100.0, 100.0, 100.0, 100.0, 98.48935456572359, 100.0, 76.2383922722569, 100.0, 100.0, 100.0, 0.0, 48.9824607131759, 100.0, 97.86950786961377, 65.60757775517108, 63.86839762776672, 100.0, 0.0, 65.7205387839971, 100.0, 100.0, 78.50650450432619, 100.0, 82.72823824036023, 100.0, 100.0, 76.11979608557343, 0.0, 99.7616702852644, 100.0, 42.6962726674764, 100.0, 100.0, 0.0, 100.0, 100.0, 82.67735917394221, 40.023375254759166, 82.34433522077711, 74.69584916787527, 95.80357193606605, 100.0, 100.0, 100.0, 100.0, 0.0, 74.08420306642664, 68.63201448331824, 0.0, 74.39283000462157, 8.341883732457154, 0.0, 19.473415952265263, 81.90524959745022, 25.284555083840537, 62.168697072897864, 100.0, 43.31224327985381, 0.0, 62.17769553468616, 100.0, 68.71138543874626, 100.0, 70.47124562633937, 100.0, 0.0, 0.0, 100.0, 9.994364089084437, 0.0, 0.0, 0.0, 100.0, 68.79416911418127, 100.0, 44.088432585631516, 32.8646982910315, 53.33672980316605, 77.91850277694869, 100.0, 86.10044542455975, 28.743196575814117, 100.0, 100.0, 75.3846963310169, 78.36039486971012, 66.492742487373, 21.184196338981828, 100.0, 100.0, 100.0, 0.0, 10.603406209894533, 48.49132010845959, 5.890787471464153, 100.0, 32.64395098531484, 24.40876721999969, 45.08443193625116, 100.0, 100.0, 38.375950212116365, 98.21614471476775, 90.17876416218289, 100.0, 100.0, 0.0, 100.0, 65.15824078475623, 0.0, 98.30348856961184, 100.0, 100.0, 100.0, 0.0, 100.0, 100.0, 55.38726782028049, 0.0, 100.0, 77.4610515435363, 69.30320885719107, 100.0, 52.44083276026324, 100.0, 0.0, 47.02212686856665, 100.0, 53.87833163013793, 4.3441371033410086, 77.93002800921401, 75.81036305037793, 85.79808591726882, 24.776084926216022, 100.0, 85.50331623554051, 78.81297136477396, 30.693757159110827, 0.0, 40.386034318660826, 10.000382066215948, 0.0, 0.0, 3.25278523979916, 99.88701111118239, 87.3582757678598, 0.0, 23.738785782509485, 19.430529484390036, 100.0, 80.81925951613083, 0.0, 62.72341903333858, 0.0, 45.616776099067806, 0.0, 100.0, 34.16519579652461, 0.0, 66.77479984119933, 100.0, 15.818045713309505, 98.90667709083375, 74.32780592507483, 100.0, 0.0, 47.23824316850363, 0.0, 93.20777502280507, 48.51853312573559, 0.0, 48.652734678798225, 100.0, 0.0, 0.0, 46.65430692015628, 100.0, 0.0, 0.0, 0.0, 30.70064194656129, 42.353356879318156, 60.70652562355643, 78.39977431400197, 100.0, 64.38358803109261, 0.0, 49.57273551666355, 24.90997647345912, 63.26876620787122, 35.72090770999205, 100.0, 0.0, 28.891446395935958, 50.92797358314735, 100.0, 10.85792536464148, 63.30064214704135, 8.424680462379845, 13.115514749242589, 100.0, 10.592054096287868, 100.0, 71.60620987975884, 70.53101515608085, 18.379521454081384, 0.0, 47.179754942809424, 38.836726706753765, 96.27597642956793, 100.0, 0.0, 39.895968119776676, 0.0, 24.618590390475973, 100.0, 72.69019166546049, 71.24887519140336, 100.0, 0.0, 93.85731569459995, 3.5763272434049806, 41.22906120368044, 35.852875474310395, 26.89277037373671, 95.13352875514673, 0.0, 76.77569447585422, 14.470381602355207, 0.0, 29.530825131071772, 79.04671509468118, 0.0, 0.0, 12.350836223928685, 58.464848521001954, 100.0, 0.0, 0.0, 70.40917853415716, 100.0, 0.0, 49.19911021065458, 0.0, 100.0, 0.09237376409333853, 0.0, 0.0, 87.77133242750588, 40.80664324528786, 25.592280778562102, 82.91900652094691, 0.0, 76.07478329058492, 100.0, 0.0, 100.0, 0.0, 93.68370583794098, 48.55243613440469, 88.02018654606012, 0.0, 100.0, 44.020985334378, 0.0, 100.0, 54.15246309076858, 100.0, 88.83810380716979, 0.0, 0.0, 100.0, 0.0, 100.0, 62.91538431172527, 19.74840453955346, 0.0, 0.0, 0.0, 0.0, 19.604674036433387, 100.0, 47.893602041773484, 0.0, 100.0, 40.02025978993622, 0.0, 100.0, 0.0, 0.0, 27.31347082902189, 37.10455292379272, 0.0, 0.0, 0.0, 68.7574787906853, 100.0, 0.0, 6.915310680121488, 47.78979324250613, 20.588260773780508, 0.0, 14.954786222383346, 100.0, 0.0, 40.77245528426041, 35.80810379303717, 92.28290299973075, 0.0, 25.095995546289668, 43.85642889153872, 100.0, 0.0, 0.0, 0.0, 41.181544516077885, 100.0, 0.0, 0.0, 0.0, 55.46349960979992, 0.0, 28.910260958324564, 0.0, 0.0, 52.18218447939517, 100.0, 100.0, 24.700060928010483, 0.0, 100.0, 0.0, 45.43612421777646, 26.628367466631442, 100.0, 0.0, 69.14590460681275, 0.0, 0.0, 0.0, 25.290434412730168, 0.0, 100.0, 0.0, 100.0, 0.0, 24.840457587629942, 0.0, 8.71697828983278, 0.0, 37.80111674909684, 2.425304590645451, 100.0, 0.0, 0.0, 96.30552045245301, 0.0, 100.0, 40.65742830927131, 100.0, 0.0, 0.0, 0.0, 100.0, 0.0, 0.0, 69.80266126084705, 0.0, 30.176782723137492, 45.60194068891261, 78.33989928338559, 14.833431872230909, 100.0, 0.0, 0.0, 52.207031350595834, 2.6977232637544777, 0.0, 50.252151130025325, 16.765655808577446, 0.0, 0.0, 0.0, 0.0, 23.623400949939878, 0.0, 0.0, 0.0, 13.545585898117226, 0.0, 0.0, 21.524909775579818, 0.0, 0.0, 7.988711287082335, 8.910454421959518, 28.231762130854168, 0.0, 0.0, 0.0, 10.027454336799746, 52.66333623008441, 15.886250217926714, 0.0, 68.96180713893393, 100.0, 63.236697240245704, 21.9533961383613, 0.0, 100.0, 0.0, 67.03001000921152, 0.0, 31.675862711681837, 9.041196705055636, 0.0, 0.0, 0.0, 0.0, 46.66454359200816, 31.756028706273042, 0.0, 0.0, 0.0, 100.0, 0.0, 27.35626773810152, 98.96369532457213, 0.0, 0.0, 0.0, 61.0248447524089, 37.85919206077179, 0.0, 0.0, 0.0, 30.339256355536442, 0.0, 0.0, 0.0, 0.0, 73.28464150063623, 0.0, 0.0, 33.71442070982946, 0.0, 0.0, 0.0, 0.0, 0.0, 0.0, 0.0, 0.0, 99.95065084796377, 0.0, 0.0, 19.128137843728442, 0.0, 92.82933707365018, 0.0, 0.0, 0.0, 77.77739059173601, 98.25684764076696, 0.0, 0.0, 0.0, 0.0, 69.01570100655056, 0.0, 0.0, 0.0, 0.0, 0.0, 0.0, 0.0, 0.0, 0.0, 0.0, 0.0, 0.0, 23.6023987190891, 0.0, 0.0, 0.0, 0.0, 0.0, 0.0, 35.13338961338213, 0.0, 0.0, 0.0, 0.0, 0.0, 73.5452874500437, 19.882836291606107, 39.40024027208717, 0.0, 0.0, 0.0, 0.0, 0.0, 0.0, 0.0, 0.0, 0.0, 0.0, 0.0, 0.0, 0.0, 0.0, 100.0, 0.0, 0.0, 0.0, 0.0, 48.01977731704328, 0.0, 0.0, 0.0, 0.0, 0.0, 100.0, 0.0, 0.0, 0.0, 0.0, 0.0, 0.0, 0.0, 0.0, 0.0, 0.0, 0.0, 11.538296700435584, 0.0, 0.0, 0.0, 0.0, 0.0, 0.0, 0.0, 0.0, 0.0, 33.266367355942755, 0.0, 0.0, 0.0, 0.0, 0.0, 0.0, 0.0, 0.0, 0.0, 0.0, 0.0, 0.0, 0.0, 0.0, 0.0, 0.0, 0.0, 0.0, 100.0, 100.0, 35.251223240641075, 77.94775411851703, 100.0]\n"
          ],
          "name": "stdout"
        }
      ]
    },
    {
      "cell_type": "code",
      "metadata": {
        "id": "OSlsWev-drr7",
        "colab_type": "code",
        "colab": {
          "base_uri": "https://localhost:8080/",
          "height": 296
        },
        "outputId": "5cd4cd82-58c9-4271-e5b3-9fe16bac1a44"
      },
      "source": [
        "sns.lineplot(x=test['y'],y=test['const'])"
      ],
      "execution_count": null,
      "outputs": [
        {
          "output_type": "execute_result",
          "data": {
            "text/plain": [
              "<matplotlib.axes._subplots.AxesSubplot at 0x7f0c3edce198>"
            ]
          },
          "metadata": {
            "tags": []
          },
          "execution_count": 18
        },
        {
          "output_type": "display_data",
          "data": {
            "image/png": "[encoded data removed]",
            "text/plain": [
              "<Figure size 432x288 with 1 Axes>"
            ]
          },
          "metadata": {
            "tags": [],
            "needs_background": "light"
          }
        }
      ]
    },
    {
      "cell_type": "code",
      "metadata": {
        "id": "oFvhrnAAcUgk",
        "colab_type": "code",
        "colab": {
          "base_uri": "https://localhost:8080/",
          "height": 34
        },
        "outputId": "3675b3ca-8517-49c6-f096-7e379edb05a7"
      },
      "source": [
        "test['opt_pred']=list(x)\n",
        "test['index'] = test.index\n",
        "evaln=test[['index','y','opt_pred']]\n",
        "evaln=evaln.rename(columns={\"y\": \"pred\"})\n",
        "increase = (test['opt_pred']*(test['const']))\n",
        "\n",
        "print(sum(increase), test.loc[test['existence expectancy index'] < 0.7, 'opt_pred'].sum(), evaln['opt_pred'].sum())"
      ],
      "execution_count": null,
      "outputs": [
        {
          "output_type": "stream",
          "text": [
            "1863.9124240916806 6529.5828942466105 49999.990003500156\n"
          ],
          "name": "stdout"
        }
      ]
    },
    {
      "cell_type": "code",
      "metadata": {
        "id": "vYkgEQ4UcgDi",
        "colab_type": "code",
        "colab": {}
      },
      "source": [
        "evaln=test[['index','y','opt_pred']]\n",
        "evaln=evaln.rename(columns={\"y\": \"pred\"})"
      ],
      "execution_count": null,
      "outputs": []
    },
    {
      "cell_type": "code",
      "metadata": {
        "id": "VnYOFNIqJfnx",
        "colab_type": "code",
        "colab": {}
      },
      "source": [
        "evaln.to_csv('Subfinal.csv', index=False) "
      ],
      "execution_count": null,
      "outputs": []
    },
    {
      "cell_type": "markdown",
      "metadata": {
        "id": "PJ5bD_6bgAEE",
        "colab_type": "text"
      },
      "source": [
        "\n",
        "\n",
        "---\n",
        "final word ; ?\n"
      ]
    }
  ]
}